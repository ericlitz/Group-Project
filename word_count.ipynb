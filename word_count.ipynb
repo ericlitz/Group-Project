{
 "cells": [
  {
   "cell_type": "code",
   "execution_count": 2,
   "metadata": {},
   "outputs": [],
   "source": [
    "import pandas as pd\n",
    "import requests\n",
    "import json\n",
    "from pprint import pprint\n",
    "from api_key import omdb_key\n",
    "\n",
    "\n",
    "import numpy as np\n",
    "import matplotlib.pyplot as plt"
   ]
  },
  {
   "cell_type": "code",
   "execution_count": 3,
   "metadata": {},
   "outputs": [
    {
     "data": {
      "text/plain": [
       "{'Drama': 413,\n",
       " 'Adventure': 49,\n",
       " 'Biography': 89,\n",
       " 'Thriller': 57,\n",
       " 'Comedy': 100,\n",
       " 'Musical': 36,\n",
       " 'Romance': 203,\n",
       " 'Crime': 54,\n",
       " 'Sci-Fi': 4,\n",
       " 'War': 56,\n",
       " 'History': 65,\n",
       " 'Fantasy': 25,\n",
       " 'Mystery': 35,\n",
       " 'Music': 21,\n",
       " 'Action': 24,\n",
       " 'Family': 25,\n",
       " 'Western': 17,\n",
       " 'Animation': 4,\n",
       " 'Sport': 17,\n",
       " 'Film-Noir': 10,\n",
       " 'Horror': 3}"
      ]
     },
     "execution_count": 3,
     "metadata": {},
     "output_type": "execute_result"
    }
   ],
   "source": [
    "import csv\n",
    "from collections import Counter\n",
    "from collections import defaultdict\n",
    "\n",
    "word_counts = {}\n",
    "with open('merged_movie_data.csv', 'r') as csvfile:\n",
    "  reader = csv.reader(csvfile)\n",
    "  next(reader)\n",
    "  for row in reader:\n",
    "       csv_words = row[1].split(\", \")\n",
    "       for word in csv_words:\n",
    "           if word in word_counts:\n",
    "               word_counts[word] += 1;\n",
    "           else:\n",
    "               word_counts[word] = 1;\n",
    "\n",
    "word_counts\n",
    "#this is for all of the movies"
   ]
  },
  {
   "cell_type": "code",
   "execution_count": 4,
   "metadata": {},
   "outputs": [],
   "source": [
    " # Create an array that contains the number of users each language has\n",
    "genre = ['Drama', 'Adventure', 'Biography', 'Thriller', 'Comedy', 'Musical', \n",
    "         'Romance', 'Crime', 'Sci-Fi', 'War', 'History', 'Fantasy', 'Mystery', \n",
    "         'Music', 'Action', 'Family', 'Western', 'Animation', 'Sport', 'Film-Noir', 'Horror']\n",
    "count = [413, 49, 89, 57, 100, 36, 203, 54, 4, 56, 65, 25, 35, 21, 24, 25, 17, 4, 17, 10, 3]"
   ]
  },
  {
   "cell_type": "code",
   "execution_count": 5,
   "metadata": {},
   "outputs": [
    {
     "data": {
      "text/plain": [
       "Text(0, 0.5, 'Count of Genre of Nominees')"
      ]
     },
     "execution_count": 5,
     "metadata": {},
     "output_type": "execute_result"
    },
    {
     "data": {
      "image/png": "[encoded data removed]",
      "text/plain": [
       "<Figure size 432x288 with 1 Axes>"
      ]
     },
     "metadata": {
      "needs_background": "light"
     },
     "output_type": "display_data"
    }
   ],
   "source": [
    "plt.bar(genre, count, color='r', alpha=1.0, align=\"center\")\n",
    "plt.xticks(rotation=90)\n",
    "\n",
    "plt.title(\"Genre Count Of Best Picture Nominees\")\n",
    "plt.xlabel(\"Genre\")\n",
    "plt.ylabel(\"Count of Genre of Nominees\")"
   ]
  },
  {
   "cell_type": "code",
   "execution_count": 6,
   "metadata": {},
   "outputs": [
    {
     "data": {
      "text/html": [
       "<div>\n",
       "<style scoped>\n",
       "    .dataframe tbody tr th:only-of-type {\n",
       "        vertical-align: middle;\n",
       "    }\n",
       "\n",
       "    .dataframe tbody tr th {\n",
       "        vertical-align: top;\n",
       "    }\n",
       "\n",
       "    .dataframe thead th {\n",
       "        text-align: right;\n",
       "    }\n",
       "</style>\n",
       "<table border=\"1\" class=\"dataframe\">\n",
       "  <thead>\n",
       "    <tr style=\"text-align: right;\">\n",
       "      <th></th>\n",
       "      <th>Title</th>\n",
       "      <th>Genre</th>\n",
       "      <th>Meta_Score</th>\n",
       "      <th>imdb_Rating</th>\n",
       "      <th>Box_Office</th>\n",
       "      <th>Rated</th>\n",
       "      <th>Studio</th>\n",
       "      <th>Release_Date</th>\n",
       "      <th>Poster_URL</th>\n",
       "      <th>Plot</th>\n",
       "      <th>Year</th>\n",
       "      <th>Category</th>\n",
       "      <th>Nominee</th>\n",
       "      <th>Won?</th>\n",
       "    </tr>\n",
       "  </thead>\n",
       "  <tbody>\n",
       "    <tr>\n",
       "      <th>3</th>\n",
       "      <td>A Beautiful Mind</td>\n",
       "      <td>Biography, Drama</td>\n",
       "      <td>72.0</td>\n",
       "      <td>8.2</td>\n",
       "      <td>NaN</td>\n",
       "      <td>PG-13</td>\n",
       "      <td>Universal Pictures</td>\n",
       "      <td>4-Jan-02</td>\n",
       "      <td>https://m.media-amazon.com/images/M/MV5BMzcwYW...</td>\n",
       "      <td>After John Nash, a brilliant but asocial mathe...</td>\n",
       "      <td>2001 (74th)</td>\n",
       "      <td>Best Picture</td>\n",
       "      <td>A Beautiful Mind</td>\n",
       "      <td>YES</td>\n",
       "    </tr>\n",
       "    <tr>\n",
       "      <th>8</th>\n",
       "      <td>A Man for All Seasons</td>\n",
       "      <td>Biography, Drama, History</td>\n",
       "      <td>NaN</td>\n",
       "      <td>7.8</td>\n",
       "      <td>NaN</td>\n",
       "      <td>G</td>\n",
       "      <td>Sony Pictures Home Entertainment</td>\n",
       "      <td>3-May-67</td>\n",
       "      <td>https://m.media-amazon.com/images/M/MV5BMTRjOT...</td>\n",
       "      <td>The story of Sir Thomas More, who stood up to ...</td>\n",
       "      <td>1966 (39th)</td>\n",
       "      <td>Best Picture</td>\n",
       "      <td>A Man for All Seasons</td>\n",
       "      <td>YES</td>\n",
       "    </tr>\n",
       "    <tr>\n",
       "      <th>24</th>\n",
       "      <td>All Quiet on the Western Front</td>\n",
       "      <td>Drama, War</td>\n",
       "      <td>NaN</td>\n",
       "      <td>8.1</td>\n",
       "      <td>NaN</td>\n",
       "      <td>Not Rated</td>\n",
       "      <td>Universal Pictures</td>\n",
       "      <td>24-Aug-30</td>\n",
       "      <td>https://m.media-amazon.com/images/M/MV5BMzg2MW...</td>\n",
       "      <td>A young soldier faces profound disillusionment...</td>\n",
       "      <td>1929/30 (3rd)</td>\n",
       "      <td>Best Picture</td>\n",
       "      <td>All Quiet on the Western Front</td>\n",
       "      <td>YES</td>\n",
       "    </tr>\n",
       "    <tr>\n",
       "      <th>26</th>\n",
       "      <td>All the King's Men</td>\n",
       "      <td>Drama, Thriller</td>\n",
       "      <td>37.0</td>\n",
       "      <td>6.2</td>\n",
       "      <td>NaN</td>\n",
       "      <td>PG-13</td>\n",
       "      <td>NaN</td>\n",
       "      <td>22-Sep-06</td>\n",
       "      <td>https://m.media-amazon.com/images/M/MV5BMzY1MT...</td>\n",
       "      <td>Based on the Robert Penn Warren novel. The lif...</td>\n",
       "      <td>1949 (22nd)</td>\n",
       "      <td>Best Picture</td>\n",
       "      <td>All the King's Men</td>\n",
       "      <td>YES</td>\n",
       "    </tr>\n",
       "    <tr>\n",
       "      <th>29</th>\n",
       "      <td>Amadeus</td>\n",
       "      <td>Biography, Drama, History, Music</td>\n",
       "      <td>88.0</td>\n",
       "      <td>8.3</td>\n",
       "      <td>NaN</td>\n",
       "      <td>R</td>\n",
       "      <td>Warner Bros. Pictures</td>\n",
       "      <td>19-Sep-84</td>\n",
       "      <td>https://m.media-amazon.com/images/M/MV5BNWJlNz...</td>\n",
       "      <td>The life, success and troubles of Wolfgang Ama...</td>\n",
       "      <td>1984 (57th)</td>\n",
       "      <td>Best Picture</td>\n",
       "      <td>Amadeus</td>\n",
       "      <td>YES</td>\n",
       "    </tr>\n",
       "  </tbody>\n",
       "</table>\n",
       "</div>"
      ],
      "text/plain": [
       "                             Title                             Genre  \\\n",
       "3                 A Beautiful Mind                  Biography, Drama   \n",
       "8            A Man for All Seasons         Biography, Drama, History   \n",
       "24  All Quiet on the Western Front                        Drama, War   \n",
       "26              All the King's Men                   Drama, Thriller   \n",
       "29                         Amadeus  Biography, Drama, History, Music   \n",
       "\n",
       "    Meta_Score  imdb_Rating Box_Office      Rated  \\\n",
       "3         72.0          8.2        NaN      PG-13   \n",
       "8          NaN          7.8        NaN          G   \n",
       "24         NaN          8.1        NaN  Not Rated   \n",
       "26        37.0          6.2        NaN      PG-13   \n",
       "29        88.0          8.3        NaN          R   \n",
       "\n",
       "                              Studio Release_Date  \\\n",
       "3                 Universal Pictures     4-Jan-02   \n",
       "8   Sony Pictures Home Entertainment     3-May-67   \n",
       "24                Universal Pictures    24-Aug-30   \n",
       "26                               NaN    22-Sep-06   \n",
       "29             Warner Bros. Pictures    19-Sep-84   \n",
       "\n",
       "                                           Poster_URL  \\\n",
       "3   https://m.media-amazon.com/images/M/MV5BMzcwYW...   \n",
       "8   https://m.media-amazon.com/images/M/MV5BMTRjOT...   \n",
       "24  https://m.media-amazon.com/images/M/MV5BMzg2MW...   \n",
       "26  https://m.media-amazon.com/images/M/MV5BMzY1MT...   \n",
       "29  https://m.media-amazon.com/images/M/MV5BNWJlNz...   \n",
       "\n",
       "                                                 Plot           Year  \\\n",
       "3   After John Nash, a brilliant but asocial mathe...    2001 (74th)   \n",
       "8   The story of Sir Thomas More, who stood up to ...    1966 (39th)   \n",
       "24  A young soldier faces profound disillusionment...  1929/30 (3rd)   \n",
       "26  Based on the Robert Penn Warren novel. The lif...    1949 (22nd)   \n",
       "29  The life, success and troubles of Wolfgang Ama...    1984 (57th)   \n",
       "\n",
       "        Category                         Nominee Won?  \n",
       "3   Best Picture                A Beautiful Mind  YES  \n",
       "8   Best Picture           A Man for All Seasons  YES  \n",
       "24  Best Picture  All Quiet on the Western Front  YES  \n",
       "26  Best Picture              All the King's Men  YES  \n",
       "29  Best Picture                         Amadeus  YES  "
      ]
     },
     "execution_count": 6,
     "metadata": {},
     "output_type": "execute_result"
    }
   ],
   "source": [
    "# create a path to csv and read it into a pandas dataframe\n",
    "movies_csv = 'merged_movie_data.csv'\n",
    "movies_df = pd.read_csv(movies_csv, usecols = ['Title', 'Genre', 'Meta_Score', 'imdb_Rating', \n",
    "                                               'Box_Office', 'Rated', 'Studio', 'Release_Date', \n",
    "                                               'Poster_URL', 'Plot', 'Year', 'Category', 'Nominee', \n",
    "                                               'Won?'], encoding = 'latin-1')\n",
    "\n",
    "# create another dataframe that only includes winners of the Best Picture category\n",
    "movies_data = movies_df.loc[movies_df['Won?'] == 'YES', :]\n",
    "\n",
    "# create list of best picture nominees\n",
    "best_picture_wins = movies_data[\"Won?\"]\n",
    "\n",
    "movies_data.head()"
   ]
  },
  {
   "cell_type": "code",
   "execution_count": 7,
   "metadata": {},
   "outputs": [],
   "source": [
    "# coverting dataframe into csv\n",
    "movies_data.to_csv('best_picture_winners.csv', index=False)"
   ]
  },
  {
   "cell_type": "code",
   "execution_count": 8,
   "metadata": {},
   "outputs": [
    {
     "data": {
      "text/plain": [
       "{'Biography': 17,\n",
       " 'Drama': 72,\n",
       " 'History': 14,\n",
       " 'War': 15,\n",
       " 'Thriller': 10,\n",
       " 'Music': 2,\n",
       " 'Musical': 9,\n",
       " 'Romance': 29,\n",
       " 'Comedy': 12,\n",
       " 'Action': 3,\n",
       " 'Adventure': 9,\n",
       " 'Family': 6,\n",
       " 'Western': 3,\n",
       " 'Sport': 3,\n",
       " 'Crime': 11,\n",
       " 'Mystery': 2,\n",
       " 'Fantasy': 1,\n",
       " 'Film-Noir': 1}"
      ]
     },
     "execution_count": 8,
     "metadata": {},
     "output_type": "execute_result"
    }
   ],
   "source": [
    "winner_word_counts = {}\n",
    "with open('best_picture_winners.csv', 'r') as csvfile:\n",
    "  reader = csv.reader(csvfile)\n",
    "  next(reader)\n",
    "  for row in reader:\n",
    "       csv_words = row[1].split(\", \")\n",
    "       for word in csv_words:\n",
    "           if word in winner_word_counts:\n",
    "               winner_word_counts[word] += 1;\n",
    "           else:\n",
    "               winner_word_counts[word] = 1;\n",
    "\n",
    "winner_word_counts"
   ]
  },
  {
   "cell_type": "code",
   "execution_count": 9,
   "metadata": {},
   "outputs": [],
   "source": [
    "genre_winners = ['Biography', 'Drama', 'History', 'War', 'Thriller', 'Music', \n",
    "                 'Musical', 'Romance', 'Comedy', 'Action', 'Adventure', 'Family', \n",
    "                 'Western', 'Sport', 'Crime', 'Mystery', 'Fantasy', 'Film-Noir']\n",
    "count_winners = [17, 72, 14, 15, 10, 2, 9, 29, 12, 3, 9, 6, 3, 3, 11, 2, 1, 1]"
   ]
  },
  {
   "cell_type": "code",
   "execution_count": 12,
   "metadata": {},
   "outputs": [
    {
     "data": {
      "text/plain": [
       "Text(0, 0.5, 'Count of Genre of Winning Movies')"
      ]
     },
     "execution_count": 12,
     "metadata": {},
     "output_type": "execute_result"
    },
    {
     "data": {
      "image/png": "[encoded data removed]",
      "text/plain": [
       "<Figure size 432x288 with 1 Axes>"
      ]
     },
     "metadata": {
      "needs_background": "light"
     },
     "output_type": "display_data"
    }
   ],
   "source": [
    "plt.bar(genre, count, color='r', alpha=1.0, align=\"center\")\n",
    "plt.xticks(rotation=90)\n",
    "\n",
    "plt.title(\"Genre Count Of Best Picture Winning Movies\")\n",
    "plt.xlabel(\"Genre\")\n",
    "plt.ylabel(\"Count of Genre of Winning Movies\")"
   ]
  },
  {
   "cell_type": "code",
   "execution_count": null,
   "metadata": {},
   "outputs": [],
   "source": []
  },
  {
   "cell_type": "code",
   "execution_count": null,
   "metadata": {},
   "outputs": [],
   "source": []
  }
 ],
 "metadata": {
  "kernelspec": {
   "display_name": "Python 3",
   "language": "python",
   "name": "python3"
  },
  "language_info": {
   "codemirror_mode": {
    "name": "ipython",
    "version": 3
   },
   "file_extension": ".py",
   "mimetype": "text/x-python",
   "name": "python",
   "nbconvert_exporter": "python",
   "pygments_lexer": "ipython3",
   "version": "3.7.3"
  }
 },
 "nbformat": 4,
 "nbformat_minor": 2
}
