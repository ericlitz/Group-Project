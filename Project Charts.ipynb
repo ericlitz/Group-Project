{
 "cells": [
  {
   "cell_type": "code",
   "execution_count": 7,
   "metadata": {},
   "outputs": [],
   "source": [
    "import matplotlib.pyplot as plt\n",
    "import numpy as np\n",
    "import pandas as pd"
   ]
  },
  {
   "cell_type": "code",
   "execution_count": 8,
   "metadata": {},
   "outputs": [],
   "source": [
    "movie_data_to_read = 'Seasons_Movie_Data.csv'\n",
    "\n",
    "movie_data_df = pd.read_csv(movie_data_to_read)"
   ]
  },
  {
   "cell_type": "code",
   "execution_count": 9,
   "metadata": {},
   "outputs": [
    {
     "data": {
      "text/html": [
       "<div>\n",
       "<style scoped>\n",
       "    .dataframe tbody tr th:only-of-type {\n",
       "        vertical-align: middle;\n",
       "    }\n",
       "\n",
       "    .dataframe tbody tr th {\n",
       "        vertical-align: top;\n",
       "    }\n",
       "\n",
       "    .dataframe thead th {\n",
       "        text-align: right;\n",
       "    }\n",
       "</style>\n",
       "<table border=\"1\" class=\"dataframe\">\n",
       "  <thead>\n",
       "    <tr style=\"text-align: right;\">\n",
       "      <th></th>\n",
       "      <th>Title</th>\n",
       "      <th>Genre</th>\n",
       "      <th>Meta_Score</th>\n",
       "      <th>imdb_Rating</th>\n",
       "      <th>Box_Office</th>\n",
       "      <th>Rated</th>\n",
       "      <th>Studio</th>\n",
       "      <th>Release_Date</th>\n",
       "      <th>Poster_URL</th>\n",
       "      <th>Year</th>\n",
       "      <th>Category</th>\n",
       "      <th>Nominee</th>\n",
       "      <th>Won?</th>\n",
       "      <th>Season</th>\n",
       "    </tr>\n",
       "  </thead>\n",
       "  <tbody>\n",
       "    <tr>\n",
       "      <th>0</th>\n",
       "      <td>Black Swan</td>\n",
       "      <td>Drama, Thriller</td>\n",
       "      <td>79.0</td>\n",
       "      <td>8.0</td>\n",
       "      <td>$106,952,327</td>\n",
       "      <td>R</td>\n",
       "      <td>Fox Searchlight</td>\n",
       "      <td>17-Dec-10</td>\n",
       "      <td>https://m.media-amazon.com/images/M/MV5BNzY2Nz...</td>\n",
       "      <td>2010 (83rd)</td>\n",
       "      <td>Best Picture</td>\n",
       "      <td>Black Swan</td>\n",
       "      <td>NO</td>\n",
       "      <td>Winter</td>\n",
       "    </tr>\n",
       "    <tr>\n",
       "      <th>1</th>\n",
       "      <td>The Fighter</td>\n",
       "      <td>Biography, Drama, Sport</td>\n",
       "      <td>79.0</td>\n",
       "      <td>7.8</td>\n",
       "      <td>$93,571,803</td>\n",
       "      <td>R</td>\n",
       "      <td>Paramount Pictures</td>\n",
       "      <td>17-Dec-10</td>\n",
       "      <td>https://m.media-amazon.com/images/M/MV5BMTM0OD...</td>\n",
       "      <td>2010 (83rd)</td>\n",
       "      <td>Best Picture</td>\n",
       "      <td>The Fighter</td>\n",
       "      <td>NO</td>\n",
       "      <td>Winter</td>\n",
       "    </tr>\n",
       "    <tr>\n",
       "      <th>2</th>\n",
       "      <td>Inception</td>\n",
       "      <td>Action, Adventure, Sci-Fi, Thriller</td>\n",
       "      <td>74.0</td>\n",
       "      <td>8.8</td>\n",
       "      <td>$292,568,851</td>\n",
       "      <td>PG-13</td>\n",
       "      <td>Warner Bros. Pictures</td>\n",
       "      <td>16-Jul-10</td>\n",
       "      <td>https://m.media-amazon.com/images/M/MV5BMjAxMz...</td>\n",
       "      <td>2010 (83rd)</td>\n",
       "      <td>Best Picture</td>\n",
       "      <td>Inception</td>\n",
       "      <td>NO</td>\n",
       "      <td>Summer</td>\n",
       "    </tr>\n",
       "    <tr>\n",
       "      <th>3</th>\n",
       "      <td>The Kids Are All Right</td>\n",
       "      <td>Comedy, Drama, Romance</td>\n",
       "      <td>86.0</td>\n",
       "      <td>7.0</td>\n",
       "      <td>$20,803,237</td>\n",
       "      <td>R</td>\n",
       "      <td>Focus Features</td>\n",
       "      <td>30-Jul-10</td>\n",
       "      <td>https://m.media-amazon.com/images/M/MV5BMjE4NT...</td>\n",
       "      <td>2010 (83rd)</td>\n",
       "      <td>Best Picture</td>\n",
       "      <td>The Kids Are All Right</td>\n",
       "      <td>NO</td>\n",
       "      <td>Summer</td>\n",
       "    </tr>\n",
       "    <tr>\n",
       "      <th>4</th>\n",
       "      <td>The King's Speech</td>\n",
       "      <td>Biography, Drama, History</td>\n",
       "      <td>88.0</td>\n",
       "      <td>8.0</td>\n",
       "      <td>$138,300,000</td>\n",
       "      <td>R</td>\n",
       "      <td>The Weinstein Company</td>\n",
       "      <td>25-Dec-10</td>\n",
       "      <td>https://m.media-amazon.com/images/M/MV5BMzU5Mj...</td>\n",
       "      <td>2010 (83rd)</td>\n",
       "      <td>Best Picture</td>\n",
       "      <td>The King's Speech</td>\n",
       "      <td>YES</td>\n",
       "      <td>Winter</td>\n",
       "    </tr>\n",
       "  </tbody>\n",
       "</table>\n",
       "</div>"
      ],
      "text/plain": [
       "                    Title                                Genre  Meta_Score  \\\n",
       "0              Black Swan                      Drama, Thriller        79.0   \n",
       "1             The Fighter              Biography, Drama, Sport        79.0   \n",
       "2               Inception  Action, Adventure, Sci-Fi, Thriller        74.0   \n",
       "3  The Kids Are All Right               Comedy, Drama, Romance        86.0   \n",
       "4       The King's Speech            Biography, Drama, History        88.0   \n",
       "\n",
       "   imdb_Rating     Box_Office  Rated                 Studio Release_Date  \\\n",
       "0          8.0  $106,952,327       R        Fox Searchlight    17-Dec-10   \n",
       "1          7.8   $93,571,803       R     Paramount Pictures    17-Dec-10   \n",
       "2          8.8  $292,568,851   PG-13  Warner Bros. Pictures    16-Jul-10   \n",
       "3          7.0   $20,803,237       R         Focus Features    30-Jul-10   \n",
       "4          8.0  $138,300,000       R  The Weinstein Company    25-Dec-10   \n",
       "\n",
       "                                          Poster_URL         Year  \\\n",
       "0  https://m.media-amazon.com/images/M/MV5BNzY2Nz...  2010 (83rd)   \n",
       "1  https://m.media-amazon.com/images/M/MV5BMTM0OD...  2010 (83rd)   \n",
       "2  https://m.media-amazon.com/images/M/MV5BMjAxMz...  2010 (83rd)   \n",
       "3  https://m.media-amazon.com/images/M/MV5BMjE4NT...  2010 (83rd)   \n",
       "4  https://m.media-amazon.com/images/M/MV5BMzU5Mj...  2010 (83rd)   \n",
       "\n",
       "       Category                 Nominee Won?  Season  \n",
       "0  Best Picture              Black Swan   NO  Winter  \n",
       "1  Best Picture             The Fighter   NO  Winter  \n",
       "2  Best Picture               Inception   NO  Summer  \n",
       "3  Best Picture  The Kids Are All Right   NO  Summer  \n",
       "4  Best Picture       The King's Speech  YES  Winter  "
      ]
     },
     "execution_count": 9,
     "metadata": {},
     "output_type": "execute_result"
    }
   ],
   "source": [
    "movie_data_df.head()"
   ]
  },
  {
   "cell_type": "code",
   "execution_count": 25,
   "metadata": {},
   "outputs": [
    {
     "data": {
      "text/plain": [
       "<function matplotlib.pyplot.show(*args, **kw)>"
      ]
     },
     "execution_count": 25,
     "metadata": {},
     "output_type": "execute_result"
    },
    {
     "data": {
      "image/png": "[encoded data removed]",
      "text/plain": [
       "<Figure size 432x288 with 1 Axes>"
      ]
     },
     "metadata": {
      "needs_background": "light"
     },
     "output_type": "display_data"
    }
   ],
   "source": [
    "plt.scatter(movie_data_df['Meta_Score'], movie_data_df['imdb_Rating'], marker='o', s=10)\n",
    "\n",
    "plt.title('Metascore vs. imdb Rating')\n",
    "plt.ylabel('Metacritic Score')\n",
    "plt.xlabel('imdb Rating')\n",
    "plt.grid(True)\n",
    "\n",
    "plt.savefig('Metascore vs. imdb.png')\n",
    "\n",
    "plt.show"
   ]
  }
 ],
 "metadata": {
  "kernelspec": {
   "display_name": "Python 3",
   "language": "python",
   "name": "python3"
  },
  "language_info": {
   "codemirror_mode": {
    "name": "ipython",
    "version": 3
   },
   "file_extension": ".py",
   "mimetype": "text/x-python",
   "name": "python",
   "nbconvert_exporter": "python",
   "pygments_lexer": "ipython3",
   "version": "3.7.1"
  }
 },
 "nbformat": 4,
 "nbformat_minor": 2
}
